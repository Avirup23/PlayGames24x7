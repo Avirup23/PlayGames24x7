{
 "cells": [
  {
   "cell_type": "code",
   "execution_count": 3,
   "id": "add04668",
   "metadata": {},
   "outputs": [
    {
     "data": {
      "text/plain": [
       "['rummy13.game.Defeat1 (Defeat Heuristic).vs.Defeat2 (Defeat Heuristic).seed.15512.csv',\n",
       " 'rummy13.game.Defeat1 (Defeat Heuristic).vs.Mindist2 (Mindist).seed.15512.csv',\n",
       " 'rummy13.game.Defeat1 (Defeat Heuristic).vs.MindistOpp2 (Mindist + Opp).seed.15512.csv',\n",
       " 'rummy13.game.Defeat1 (Defeat Heuristic).vs.Mindistscore2 (Mindist + minscore).seed.15512.csv',\n",
       " 'rummy13.game.Defeat1 (Defeat Heuristic).vs.Minscore2 (Minscore).seed.15512.csv',\n",
       " 'rummy13.game.Defeat1 (Defeat Heuristic).vs.Random2 (Random).seed.15512.csv',\n",
       " 'rummy13.game.Mindist1 (Mindist).vs.Defeat2 (Defeat Heuristic).seed.15512.csv',\n",
       " 'rummy13.game.Mindist1 (Mindist).vs.Mindist2 (Mindist).seed.15512.csv',\n",
       " 'rummy13.game.Mindist1 (Mindist).vs.MindistOpp2 (Mindist + Opp).seed.15512.csv',\n",
       " 'rummy13.game.Mindist1 (Mindist).vs.Mindistscore2 (Mindist + minscore).seed.15512.csv',\n",
       " 'rummy13.game.Mindist1 (Mindist).vs.Minscore2 (Minscore).seed.15512.csv',\n",
       " 'rummy13.game.Mindist1 (Mindist).vs.Random2 (Random).seed.15512.csv',\n",
       " 'rummy13.game.MindistOpp1 (Mindist + Opp).vs.Defeat2 (Defeat Heuristic).seed.15512.csv',\n",
       " 'rummy13.game.MindistOpp1 (Mindist + Opp).vs.Mindist2 (Mindist).seed.15512.csv',\n",
       " 'rummy13.game.MindistOpp1 (Mindist + Opp).vs.MindistOpp2 (Mindist + Opp).seed.15512.csv',\n",
       " 'rummy13.game.MindistOpp1 (Mindist + Opp).vs.Mindistscore2 (Mindist + minscore).seed.15512.csv',\n",
       " 'rummy13.game.MindistOpp1 (Mindist + Opp).vs.Minscore2 (Minscore).seed.15512.csv',\n",
       " 'rummy13.game.MindistOpp1 (Mindist + Opp).vs.Random2 (Random).seed.15512.csv',\n",
       " 'rummy13.game.Mindistscore1 (Mindist + minscore).vs.Defeat2 (Defeat Heuristic).seed.15512.csv',\n",
       " 'rummy13.game.Mindistscore1 (Mindist + minscore).vs.Mindist2 (Mindist).seed.15512.csv',\n",
       " 'rummy13.game.Mindistscore1 (Mindist + minscore).vs.MindistOpp2 (Mindist + Opp).seed.15512.csv',\n",
       " 'rummy13.game.Mindistscore1 (Mindist + minscore).vs.Mindistscore2 (Mindist + minscore).seed.15512.csv',\n",
       " 'rummy13.game.Mindistscore1 (Mindist + minscore).vs.Minscore2 (Minscore).seed.15512.csv',\n",
       " 'rummy13.game.Mindistscore1 (Mindist + minscore).vs.Random2 (Random).seed.15512.csv',\n",
       " 'rummy13.game.Minscore1 (Minscore).vs.Defeat2 (Defeat Heuristic).seed.15512.csv',\n",
       " 'rummy13.game.Minscore1 (Minscore).vs.Mindist2 (Mindist).seed.15512.csv',\n",
       " 'rummy13.game.Minscore1 (Minscore).vs.MindistOpp2 (Mindist + Opp).seed.15512.csv',\n",
       " 'rummy13.game.Minscore1 (Minscore).vs.Mindistscore2 (Mindist + minscore).seed.15512.csv',\n",
       " 'rummy13.game.Minscore1 (Minscore).vs.Minscore2 (Minscore).seed.15512.csv',\n",
       " 'rummy13.game.Minscore1 (Minscore).vs.Random2 (Random).seed.15512.csv',\n",
       " 'rummy13.game.Random1 (Random).vs.Defeat2 (Defeat Heuristic).seed.15512.csv',\n",
       " 'rummy13.game.Random1 (Random).vs.Mindist2 (Mindist).seed.15512.csv',\n",
       " 'rummy13.game.Random1 (Random).vs.MindistOpp2 (Mindist + Opp).seed.15512.csv',\n",
       " 'rummy13.game.Random1 (Random).vs.Mindistscore2 (Mindist + minscore).seed.15512.csv',\n",
       " 'rummy13.game.Random1 (Random).vs.Minscore2 (Minscore).seed.15512.csv',\n",
       " 'rummy13.game.Random1 (Random).vs.Random2 (Random).seed.15512.csv']"
      ]
     },
     "execution_count": 3,
     "metadata": {},
     "output_type": "execute_result"
    }
   ],
   "source": [
    "import glob\n",
    "\n",
    "csvfiles = glob.glob('*.csv')\n",
    "csvfiles.sort()\n",
    "csvfiles"
   ]
  },
  {
   "cell_type": "code",
   "execution_count": 4,
   "id": "7ff7a26b",
   "metadata": {},
   "outputs": [
    {
     "name": "stdout",
     "output_type": "stream",
     "text": [
      "MindistOpp1 (Mindist + Opp) vs Random2 (Random) no drop mean round: 7.34 median round: 7.0\n"
     ]
    }
   ],
   "source": [
    "import pandas as pd\n",
    "heatmap_dict = {}\n",
    "for csv in csvfiles:\n",
    "    result = pd.read_csv(csv)\n",
    "    result.head()\n",
    "    players = [csv.split('.')[i] for i in [2,4]]\n",
    "    if players[0] == 'MindistOpp1 (Mindist + Opp)' and players[1] == 'Random2 (Random)':\n",
    "        print(f'{players[0]} vs {players[1]} no drop mean round: {round(result['numrounds'].mean(),2)} median round: {round(result['numrounds'].median(),2)}')"
   ]
  }
 ],
 "metadata": {
  "kernelspec": {
   "display_name": "Python 3",
   "language": "python",
   "name": "python3"
  },
  "language_info": {
   "codemirror_mode": {
    "name": "ipython",
    "version": 3
   },
   "file_extension": ".py",
   "mimetype": "text/x-python",
   "name": "python",
   "nbconvert_exporter": "python",
   "pygments_lexer": "ipython3",
   "version": "3.13.3"
  }
 },
 "nbformat": 4,
 "nbformat_minor": 5
}
