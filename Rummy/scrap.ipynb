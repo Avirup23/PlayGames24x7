{
 "cells": [
  {
   "cell_type": "code",
   "execution_count": 1,
   "id": "50a86c6a",
   "metadata": {},
   "outputs": [
    {
     "name": "stdout",
     "output_type": "stream",
     "text": [
      "1\n"
     ]
    }
   ],
   "source": [
    "for j in [1,]:\n",
    "    print(j)"
   ]
  },
  {
   "cell_type": "code",
   "execution_count": 2,
   "id": "e2fb9c75",
   "metadata": {},
   "outputs": [
    {
     "name": "stdout",
     "output_type": "stream",
     "text": [
      "[1, 2, 3] [1, 2, 3]\n",
      "[1, 2, 3] [1, 2, 3] [1, 2]\n"
     ]
    }
   ],
   "source": [
    "from copy import deepcopy\n",
    "a = [1,2,3,4]\n",
    "b = a\n",
    "b.pop()\n",
    "print(a,b)\n",
    "\n",
    "c = deepcopy(b)\n",
    "c.pop()\n",
    "print(a,b,c)"
   ]
  },
  {
   "cell_type": "code",
   "execution_count": 4,
   "id": "9990f49a",
   "metadata": {},
   "outputs": [
    {
     "name": "stdout",
     "output_type": "stream",
     "text": [
      "[1, 2, 3, 4, 3, 4]\n",
      "[1, 2, 3] [3, 4]\n"
     ]
    }
   ],
   "source": [
    "print([1,2,3,4]+[3,4])\n",
    "# print([1,2,3,4]-[3,4]) # error\n",
    "print([1,2,3,4][:3],[1,2,3,4][2:])"
   ]
  },
  {
   "cell_type": "code",
   "execution_count": 1,
   "id": "9cb61fdc",
   "metadata": {},
   "outputs": [
    {
     "name": "stdout",
     "output_type": "stream",
     "text": [
      "[5, 28, 46, 37, 30, 22, 49, 31, 27, 43, 26, 25, 14, 3, 13, 43, 32, 40, 7, 1, 30, 42, 4, 25, 51, 24, 52, 10, 13, 18, 16, 50, 36, 48, 28, 6, 5, 23, 34, 40, 4, 27, 33, 36, 10, 26, 47, 9, 21, 39, 49, 35, 0, 8, 22, 9, 29, 12, 35, 20, 7, 14, 33, 23, 42, 45, 20, 24, 2, 38, 50, 17, 8, 52, 41, 17, 18, 47, 31, 34, 21, 11, 38, 2, 51] [15] [[12, 45, 3, 41, 32, 1, 39, 11, 0, 29], [48, 44, 16, 46, 37, 19, 44, 19, 15, 6]]\n",
      "[12, 45, 3, 41, 32, 1, 39, 11, 0, 29, 15]\n",
      "[33, 40, 17, 17, 19, 13, 35, 19, 47, 46, 36, 28, 24, 27, 36, 12, 21, 30, 10, 37, 8, 24, 4, 43, 21, 9, 6, 16, 31, 46, 37, 50, 33, 35, 22, 52, 6, 26, 16, 34, 43, 20, 11, 39, 52, 29, 40, 2, 20, 18, 23, 44, 34, 48, 25, 14, 38, 47, 42, 10, 51, 18, 25, 22, 48, 2, 13, 7, 32, 44, 1, 5, 31, 45, 5, 8, 30, 0, 23, 49, 51, 9, 38, 4, 41, 27, 42, 49, 26, 14, 50, 7, 15, 3, 28]\n",
      "[33, 40, 17, 17, 19, 13, 35, 19, 47, 46, 36, 28, 24, 27, 36, 12, 21, 30, 10, 37, 8, 24, 4, 43, 21, 9, 6, 16, 31, 46, 37, 50, 33, 35, 22, 52, 6, 26, 16, 34, 43, 20, 11, 39, 52, 29, 40, 2, 20, 18, 23, 44, 34, 48, 25, 14, 38, 47, 42, 10, 51, 18, 25, 22, 48, 2, 13, 7, 32, 44, 1, 5, 31, 45, 5, 8, 30, 0, 23, 49, 51, 9, 38, 4, 41] [15] [[12, 45, 3, 41, 32, 1, 39, 11, 0, 29], [27, 42, 49, 26, 14, 50, 7, 15, 3, 28]]\n"
     ]
    }
   ],
   "source": [
    "from decks import Game_state\n",
    "\n",
    "a = Game_state(2,2)\n",
    "a.hands = [a.deck.draw(10) for _ in range(2)]\n",
    "a.pile.add(a.deck.draw(1))\n",
    "\n",
    "print(a.deck.deck,a.pile.pile,a.hands)\n",
    "b = a.clone_and_randomize(0,2,10)\n",
    "print(b.deck.deck,b.pile.pile,b.hands)"
   ]
  },
  {
   "cell_type": "code",
   "execution_count": 5,
   "id": "50030676",
   "metadata": {},
   "outputs": [
    {
     "name": "stdout",
     "output_type": "stream",
     "text": [
      "root : 0\n"
     ]
    },
    {
     "ename": "ValueError",
     "evalue": "len(root.children)!=2",
     "output_type": "error",
     "traceback": [
      "\u001b[31m---------------------------------------------------------------------------\u001b[39m",
      "\u001b[31mValueError\u001b[39m                                Traceback (most recent call last)",
      "\u001b[36mCell\u001b[39m\u001b[36m \u001b[39m\u001b[32mIn[5]\u001b[39m\u001b[32m, line 11\u001b[39m\n\u001b[32m      8\u001b[39m state.hands[\u001b[32m0\u001b[39m] = [\u001b[32m1\u001b[39m,\u001b[32m2\u001b[39m,\u001b[32m3\u001b[39m,\u001b[32m4\u001b[39m,\u001b[32m5\u001b[39m,\u001b[32m6\u001b[39m,\u001b[32m7\u001b[39m,\u001b[32m8\u001b[39m,\u001b[32m9\u001b[39m,\u001b[32m10\u001b[39m]\n\u001b[32m     10\u001b[39m p = MCTSAgent(\u001b[33m'\u001b[39m\u001b[33mmcts\u001b[39m\u001b[33m'\u001b[39m,\u001b[32m20\u001b[39m,\u001b[38;5;28;01mFalse\u001b[39;00m)\n\u001b[32m---> \u001b[39m\u001b[32m11\u001b[39m \u001b[43mp\u001b[49m\u001b[43m.\u001b[49m\u001b[43mmv1\u001b[49m\u001b[43m(\u001b[49m\u001b[32;43m0\u001b[39;49m\u001b[43m,\u001b[49m\u001b[43mstate\u001b[49m\u001b[43m,\u001b[49m\u001b[32;43m2\u001b[39;49m\u001b[43m,\u001b[49m\u001b[38;5;28;43;01mFalse\u001b[39;49;00m\u001b[43m,\u001b[49m\u001b[43mrules\u001b[49m\u001b[43m=\u001b[49m\u001b[43m[\u001b[49m\u001b[43m]\u001b[49m\u001b[43m,\u001b[49m\u001b[43mmaxscore\u001b[49m\u001b[43m=\u001b[49m\u001b[32;43m60\u001b[39;49m\u001b[43m)\u001b[49m\n",
      "\u001b[36mFile \u001b[39m\u001b[32m~/Desktop/internship-25-main 2/Rummy/strat_mcts.py:110\u001b[39m, in \u001b[36mMCTSAgent.mv1\u001b[39m\u001b[34m(self, index, state, wcj, first, rules, maxscore)\u001b[39m\n\u001b[32m    108\u001b[39m \u001b[38;5;28;01melse\u001b[39;00m:\n\u001b[32m    109\u001b[39m     root.print_tree()\n\u001b[32m--> \u001b[39m\u001b[32m110\u001b[39m     \u001b[38;5;28;01mraise\u001b[39;00m \u001b[38;5;167;01mValueError\u001b[39;00m(\u001b[33mf\u001b[39m\u001b[33m\"\u001b[39m\u001b[33mlen(root.children)!=2\u001b[39m\u001b[33m\"\u001b[39m)\n\u001b[32m    112\u001b[39m \u001b[38;5;66;03m# root.print_tree()\u001b[39;00m\n\u001b[32m    113\u001b[39m \u001b[38;5;66;03m# print(f\"Round {state.counter//2+1} Player {state.player_index} : best move {best_move}\")\u001b[39;00m\n\u001b[32m    114\u001b[39m \u001b[38;5;66;03m# exit(0)\u001b[39;00m\n\u001b[32m    115\u001b[39m \u001b[38;5;28;01mreturn\u001b[39;00m best_move\n",
      "\u001b[31mValueError\u001b[39m: len(root.children)!=2"
     ]
    }
   ],
   "source": [
    "from strat_mcts import MCTSAgent\n",
    "from decks import Game_state\n",
    "\n",
    "state = Game_state(1,2,0)\n",
    "state.hands = [state.deck.draw(10) for _ in range(2)]\n",
    "# self.state.observable_hands = [[] for _ in range(self.n)]\n",
    "state.pile.add(state.deck.draw(1))\n",
    "state.hands[0] = [1,2,3,4,5,6,7,8,9,10]\n",
    "\n",
    "p = MCTSAgent('mcts',20,False)\n",
    "p.mv1(0,state,2,False,rules=[],maxscore=60)"
   ]
  },
  {
   "cell_type": "code",
   "execution_count": 6,
   "id": "e7097aae",
   "metadata": {},
   "outputs": [
    {
     "name": "stdout",
     "output_type": "stream",
     "text": [
      "2\n"
     ]
    }
   ],
   "source": [
    "for j in range(2,3):\n",
    "    print(j)"
   ]
  },
  {
   "cell_type": "code",
   "execution_count": 1,
   "id": "384c08ac",
   "metadata": {},
   "outputs": [
    {
     "data": {
      "text/plain": [
       "12"
      ]
     },
     "execution_count": 1,
     "metadata": {},
     "output_type": "execute_result"
    }
   ],
   "source": [
    "from multiprocessing import cpu_count\n",
    "cpu_count()"
   ]
  },
  {
   "cell_type": "code",
   "execution_count": 2,
   "id": "ecabc4b2",
   "metadata": {},
   "outputs": [
    {
     "data": {
      "text/plain": [
       "2"
      ]
     },
     "execution_count": 2,
     "metadata": {},
     "output_type": "execute_result"
    }
   ],
   "source": [
    "(0-1)%3"
   ]
  },
  {
   "cell_type": "code",
   "execution_count": null,
   "id": "45954c0c",
   "metadata": {},
   "outputs": [],
   "source": [
    "from algo_minscore import mscore\n",
    "import pandas as pd\n",
    "csv_folder = 'Data 10 card Final MCTS/Outputs mcts vs rule/'\n",
    "csv_list = [\n",
    "    'rummy.mcts1-10 (MCTS-minscore).vs.MindistOpp2 (Mindist + Opp).10.card.2.joker.csv',\n",
    "    'rummy.mcts1-25 (MCTS-minscore).vs.MindistOpp2 (Mindist + Opp).10.card.2.joker.csv',\n",
    "    'rummy.mcts1-50 (MCTS-minscore).vs.MindistOpp2 (Mindist + Opp).10.card.2.joker.csv',\n",
    "    'rummy.MindistOpp1 (Mindist + Opp).vs.mcts2-10 (MCTS-minscore).10.card.2.joker.csv',\n",
    "    'rummy.MindistOpp1 (Mindist + Opp).vs.mcts2-25 (MCTS-minscore).10.card.2.joker.csv',\n",
    "    'rummy.MindistOpp1 (Mindist + Opp).vs.mcts2-50 (MCTS-minscore).10.card.2.joker.csv'\n",
    "]\n",
    "\n",
    "names = [\n",
    "    ('mcts-0','Mindist + Opp'),\n",
    "    ('mcts-25','Mindist + Opp'),\n",
    "    ('mcts-50','Mindist + Opp'),\n",
    "    ('Mindist + Opp','mcts-0'),\n",
    "    ('Mindist + Opp','mcts-25'),\n",
    "    ('Mindist + Opp','mcts-50')\n",
    "]\n",
    "\n",
    "total = pd.DataFrame()\n",
    "\n",
    "for i,csv in enumerate(csv_list):\n",
    "    data = pd.read_csv(csv_folder+csv)\n",
    "    sample_size = min(1000, len(data))  # Handle if file has less than 1000 rows\n",
    "    sampled_data = data.sample(n=sample_size, replace=False, random_state=42)\n",
    "\n",
    "    newdata = pd.DataFrame({\n",
    "        \"init.score1\":sampled_data.apply(lambda out:mscore(list(map(int, out['init.hand1'].split())),int(out['wcj']),[],False,0,maxscore=60),axis=1),\n",
    "        \"init.score2\":sampled_data.apply(lambda out:mscore(list(map(int, out['init.hand2'].split())),int(out['wcj']),[],False,0,maxscore=60),axis =1),\n",
    "        \"Strategy 1\":names[i][0],\n",
    "        \"Strategy 2\":names[i][1],\n",
    "        \"P1 Score\":sampled_data['score1'],\n",
    "        \"P2 Score\":sampled_data['score2'],\n",
    "        \"Winner_ID\":sampled_data['winner']\n",
    "    })\n",
    "    total = pd.concat([total, newdata], ignore_index=True)\n",
    "\n",
    "print(total.shape)\n",
    "\n",
    "total.to_csv(\"RulevsMCTS_EloData2.csv\", index=False)"
   ]
  },
  {
   "cell_type": "code",
   "execution_count": null,
   "id": "f8d3794c",
   "metadata": {},
   "outputs": [],
   "source": [
    "from decks import Deck\n",
    "from algo_minscore import mscore\n",
    "from algo_mindist import mdist\n",
    "import os\n",
    "import csv\n",
    "import tqdm\n",
    "\n",
    "OUTPUT_DIR = 'Data Hands/my data/'\n",
    "iterations = 7000\n",
    "for settings in [(13,2,2,3,[('Pseq',3),('Iseq',3)],80)]:\n",
    "    handsize,n,ndeck,njoker,rules,maxscore = settings\n",
    "    \n",
    "    for i in tqdm.tqdm(range(iterations)):\n",
    "        d = Deck(ndeck,njoker)\n",
    "        wcj = d.draw_wcj()\n",
    "        hands = [d.draw(handsize) for _ in range(n)]\n",
    "        min_score = mscore(hands[0],wcj,rules,False,0,maxscore=maxscore)\n",
    "        min_dist = mdist(hands[0],wcj,rules,declr=False,shift=0)\n",
    "        out = {\n",
    "            'hand': ' '.join(str(i) for i in hands[0]),\n",
    "            'wcj': wcj,\n",
    "            'minscore':min_score,\n",
    "            'mindist':min_dist,\n",
    "        }\n",
    "        filename = f'{OUTPUT_DIR}{handsize}.hand.{njoker}.joker.csv'\n",
    "        fieldnames = list(out.keys())\n",
    "        write_header = not os.path.exists(filename)\n",
    "\n",
    "        with open(filename, mode='a', newline='') as csvfile:\n",
    "            writer = csv.DictWriter(csvfile, fieldnames=fieldnames)\n",
    "            if write_header:\n",
    "                writer.writeheader()\n",
    "            writer.writerow(out)"
   ]
  },
  {
   "cell_type": "code",
   "execution_count": 10,
   "id": "d3265fa8",
   "metadata": {},
   "outputs": [
    {
     "data": {
      "text/plain": [
       "96"
      ]
     },
     "execution_count": 10,
     "metadata": {},
     "output_type": "execute_result"
    }
   ],
   "source": [
    "from algo_minscore import mscore\n",
    "mscore(list(map(int, '9 35 46 49 10 7 38 47 51 6'.split(' '))),0,[],False,0,maxscore=100)"
   ]
  }
 ],
 "metadata": {
  "kernelspec": {
   "display_name": "Python 3",
   "language": "python",
   "name": "python3"
  },
  "language_info": {
   "codemirror_mode": {
    "name": "ipython",
    "version": 3
   },
   "file_extension": ".py",
   "mimetype": "text/x-python",
   "name": "python",
   "nbconvert_exporter": "python",
   "pygments_lexer": "ipython3",
   "version": "3.13.3"
  }
 },
 "nbformat": 4,
 "nbformat_minor": 5
}
