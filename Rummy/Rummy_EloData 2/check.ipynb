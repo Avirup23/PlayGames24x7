{
 "cells": [
  {
   "cell_type": "code",
   "execution_count": 1,
   "id": "7a8a27ce",
   "metadata": {},
   "outputs": [
    {
     "name": "stdout",
     "output_type": "stream",
     "text": [
      "MCTSvsMCTS_EloData.csv\n",
      "RulevsMCTS_EloData.csv\n",
      "RulevsRule_EloData.csv\n"
     ]
    }
   ],
   "source": [
    "import glob\n",
    "csvfiles = sorted(glob.glob('*.csv'))\n",
    "\n",
    "# Check collected files\n",
    "for file in csvfiles:\n",
    "    print(file)"
   ]
  },
  {
   "cell_type": "code",
   "execution_count": 2,
   "id": "a1608871",
   "metadata": {},
   "outputs": [
    {
     "name": "stdout",
     "output_type": "stream",
     "text": [
      "  Strategy 1 Strategy 2  Games\n",
      "0     MCTS-0    MCTS-25   1000\n",
      "1     MCTS-0    MCTS-50   1000\n",
      "2    MCTS-25     MCTS-0   1000\n",
      "3    MCTS-25    MCTS-50   1000\n",
      "4    MCTS-50     MCTS-0   1000\n",
      "5    MCTS-50    MCTS-25   1000\n",
      "    Strategy 1   Strategy 2  Games\n",
      "0      MCTS-10  Mindist+Opp   1000\n",
      "1      MCTS-25  Mindist+Opp   1000\n",
      "2      MCTS-50  Mindist+Opp   1000\n",
      "3  Mindist+Opp      MCTS-10   1000\n",
      "4  Mindist+Opp      MCTS-25   1000\n",
      "5  Mindist+Opp      MCTS-50   1000\n",
      "          Strategy 1        Strategy 2  Games\n",
      "0    DefeatHeuristic           Mindist   1000\n",
      "1    DefeatHeuristic       Mindist+Opp   1000\n",
      "2    DefeatHeuristic  Mindist+minscore   1000\n",
      "3    DefeatHeuristic          Minscore   1000\n",
      "4    DefeatHeuristic            Random   1000\n",
      "5            Mindist   DefeatHeuristic   1000\n",
      "6            Mindist       Mindist+Opp   1000\n",
      "7            Mindist  Mindist+minscore   1000\n",
      "8            Mindist          Minscore   1000\n",
      "9            Mindist            Random   1000\n",
      "10       Mindist+Opp   DefeatHeuristic   1000\n",
      "11       Mindist+Opp           Mindist   1000\n",
      "12       Mindist+Opp  Mindist+minscore   1000\n",
      "13       Mindist+Opp          Minscore   1000\n",
      "14       Mindist+Opp            Random   1000\n",
      "15  Mindist+minscore   DefeatHeuristic   1000\n",
      "16  Mindist+minscore           Mindist   1000\n",
      "17  Mindist+minscore       Mindist+Opp   1000\n",
      "18  Mindist+minscore          Minscore   1000\n",
      "19  Mindist+minscore            Random   1000\n",
      "20          Minscore   DefeatHeuristic   1000\n",
      "21          Minscore           Mindist   1000\n",
      "22          Minscore       Mindist+Opp   1000\n",
      "23          Minscore  Mindist+minscore   1000\n",
      "24          Minscore            Random   1000\n",
      "25            Random   DefeatHeuristic   1000\n",
      "26            Random           Mindist   1000\n",
      "27            Random       Mindist+Opp   1000\n",
      "28            Random  Mindist+minscore   1000\n",
      "29            Random          Minscore   1000\n"
     ]
    }
   ],
   "source": [
    "import pandas as pd\n",
    "for csv in csvfiles:\n",
    "    dataframe = pd.read_csv(csv)\n",
    "    # Count occurrences of each pair\n",
    "    pair_counts = dataframe.groupby(['Strategy 1', 'Strategy 2']).size().reset_index(name='Games')\n",
    "\n",
    "    print(pair_counts)"
   ]
  }
 ],
 "metadata": {
  "kernelspec": {
   "display_name": "Python 3",
   "language": "python",
   "name": "python3"
  },
  "language_info": {
   "codemirror_mode": {
    "name": "ipython",
    "version": 3
   },
   "file_extension": ".py",
   "mimetype": "text/x-python",
   "name": "python",
   "nbconvert_exporter": "python",
   "pygments_lexer": "ipython3",
   "version": "3.13.3"
  }
 },
 "nbformat": 4,
 "nbformat_minor": 5
}
