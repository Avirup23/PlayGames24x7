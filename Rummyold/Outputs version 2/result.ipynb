{
 "cells": [
  {
   "cell_type": "code",
   "execution_count": null,
   "id": "add04668",
   "metadata": {},
   "outputs": [],
   "source": [
    "import glob\n",
    "\n",
    "csvfiles = glob.glob('*.csv')\n",
    "csvfiles.sort()\n",
    "csvfiles"
   ]
  },
  {
   "cell_type": "code",
   "execution_count": null,
   "id": "7ff7a26b",
   "metadata": {},
   "outputs": [],
   "source": [
    "import pandas as pd\n",
    "heatmap_dict = {}\n",
    "for csv in csvfiles:\n",
    "    result = pd.read_csv(csv)\n",
    "    result.head()\n",
    "    players = [csv.split('.')[i] for i in [1,3]]\n",
    "    wins = result['winner'].value_counts().to_dict()\n",
    "    median_gain = (result['score2']-result['score1']).median()\n",
    "    mean_gain = (result['score2']-result['score1']).mean()\n",
    "    print(f\"{players[0]:<35} : {wins.get(0,0)*100/len(result):>5}% vs. {players[1]:<35} : {wins.get(1,0)*100/len(result):>5}%\")\n",
    "    if players[1] in heatmap_dict.keys():\n",
    "        heatmap_dict[players[1]][players[0]] = (wins.get(0,0)*100/len(result),median_gain,mean_gain)\n",
    "    else:\n",
    "        heatmap_dict[players[1]]={players[0]:(wins.get(0,0)*100/len(result),median_gain,mean_gain)}"
   ]
  },
  {
   "cell_type": "code",
   "execution_count": null,
   "id": "ebfd8c43",
   "metadata": {},
   "outputs": [],
   "source": [
    "heatmap_dict"
   ]
  },
  {
   "cell_type": "code",
   "execution_count": null,
   "id": "086577e2",
   "metadata": {},
   "outputs": [],
   "source": [
    "import numpy as np\n",
    "import seaborn as sns\n",
    "import matplotlib.pyplot as plt\n",
    "import pandas as pd\n",
    "\n",
    "# Extract first values for color\n",
    "heat_values = pd.DataFrame({col: {row: val[0] for row, val in rows.items()} for col, rows in heatmap_dict.items()})\n",
    "\n",
    "# Extract full tuples for annotations\n",
    "annotations = pd.DataFrame({col: {row: f\"({val[0]:.1f}, {val[1]:.1f}, {val[2]:.1f})\" for row, val in rows.items()} for col, rows in heatmap_dict.items()})\n",
    "\n",
    "# Optional: wrap labels to prevent overlap\n",
    "def wrap(label):\n",
    "    return label.replace(\" (\", \"\\n(\")\n",
    "\n",
    "heat_values.index = [wrap(idx) for idx in heat_values.index]\n",
    "heat_values.columns = [wrap(col) for col in heat_values.columns]\n",
    "annotations.index = heat_values.index\n",
    "annotations.columns = heat_values.columns\n",
    "heat_values = heat_values.iloc[::-1]\n",
    "annotations = annotations.iloc[::-1]\n",
    "\n",
    "# Plot heatmap\n",
    "plt.figure(figsize=(10, 8))\n",
    "sns.heatmap(heat_values, annot=annotations, fmt=\"\", cmap=\"YlGnBu\", linewidths=0.5, cbar_kws={\"label\": \"Win % of 1st player\"})\n",
    "\n",
    "plt.title(\"Heatmap of Strategy Win Percentages\")\n",
    "plt.xticks(rotation=30, ha=\"right\")\n",
    "plt.yticks(rotation=0)\n",
    "plt.tight_layout()\n",
    "plt.show()"
   ]
  }
 ],
 "metadata": {
  "kernelspec": {
   "display_name": "Python 3",
   "language": "python",
   "name": "python3"
  },
  "language_info": {
   "codemirror_mode": {
    "name": "ipython",
    "version": 3
   },
   "file_extension": ".py",
   "mimetype": "text/x-python",
   "name": "python",
   "nbconvert_exporter": "python",
   "pygments_lexer": "ipython3",
   "version": "3.13.3"
  }
 },
 "nbformat": 4,
 "nbformat_minor": 5
}
