{
 "cells": [
  {
   "cell_type": "code",
   "execution_count": 18,
   "id": "add04668",
   "metadata": {},
   "outputs": [
    {
     "data": {
      "text/plain": [
       "['ginrummy.game.MindistOpp1 (Mindist + Opp).vs.MindistOpp2 (Mindist + Opp).joker.2.seed.NA.csv',\n",
       " 'ginrummy.game.MindistOpp1 (Mindist + Opp).vs.Mindistscore2 (Mindist + minscore).joker.2.seed.NA.csv',\n",
       " 'ginrummy.game.MindistOpp1 (Mindist + Opp).vs.Minscore2 (Minscore).joker.2.seed.NA.csv',\n",
       " 'ginrummy.game.Mindistscore1 (Mindist + minscore).vs.MindistOpp2 (Mindist + Opp).joker.2.seed.NA.csv',\n",
       " 'ginrummy.game.Mindistscore1 (Mindist + minscore).vs.Mindistscore2 (Mindist + minscore).joker.2.seed.NA.csv',\n",
       " 'ginrummy.game.Mindistscore1 (Mindist + minscore).vs.Minscore2 (Minscore).joker.2.seed.NA.csv',\n",
       " 'ginrummy.game.Minscore1 (Minscore).vs.MindistOpp2 (Mindist + Opp).joker.2.seed.NA.csv',\n",
       " 'ginrummy.game.Minscore1 (Minscore).vs.Mindistscore2 (Mindist + minscore).joker.2.seed.NA.csv',\n",
       " 'ginrummy.game.Minscore1 (Minscore).vs.Minscore2 (Minscore).joker.2.seed.NA.csv']"
      ]
     },
     "execution_count": 18,
     "metadata": {},
     "output_type": "execute_result"
    }
   ],
   "source": [
    "import glob\n",
    "\n",
    "csvfiles = glob.glob('*.csv')\n",
    "csvfiles.sort()\n",
    "csvfiles"
   ]
  },
  {
   "cell_type": "code",
   "execution_count": 19,
   "id": "7ff7a26b",
   "metadata": {},
   "outputs": [
    {
     "name": "stdout",
     "output_type": "stream",
     "text": [
      "MindistOpp1 (Mindist + Opp)         :  58.0% vs. MindistOpp2 (Mindist + Opp)         :  42.0%\n",
      "MindistOpp1 (Mindist + Opp)         :  58.0% vs. Mindistscore2 (Mindist + minscore)  :  42.0%\n",
      "MindistOpp1 (Mindist + Opp)         :  60.0% vs. Minscore2 (Minscore)                :  40.0%\n",
      "Mindistscore1 (Mindist + minscore)  :  58.0% vs. MindistOpp2 (Mindist + Opp)         :  42.0%\n",
      "Mindistscore1 (Mindist + minscore)  :  58.0% vs. Mindistscore2 (Mindist + minscore)  :  42.0%\n",
      "Mindistscore1 (Mindist + minscore)  :  62.8% vs. Minscore2 (Minscore)                :  37.2%\n",
      "Minscore1 (Minscore)                :  50.0% vs. MindistOpp2 (Mindist + Opp)         :  50.0%\n",
      "Minscore1 (Minscore)                :  47.6% vs. Mindistscore2 (Mindist + minscore)  :  52.4%\n",
      "Minscore1 (Minscore)                :  56.0% vs. Minscore2 (Minscore)                :  44.0%\n"
     ]
    }
   ],
   "source": [
    "import pandas as pd\n",
    "for csv in csvfiles:\n",
    "    result = pd.read_csv(csv)\n",
    "    players = [csv.split('.')[i] for i in [2,4]]\n",
    "    wins = result['winnerid'].value_counts().to_dict()\n",
    "    print(f\"{players[0]:<35} : {wins.get(0,0)*100/len(result):>5}% vs. {players[1]:<35} : {wins.get(1,0)*100/len(result):>5}%\")"
   ]
  },
  {
   "cell_type": "code",
   "execution_count": 20,
   "id": "69b55c6c",
   "metadata": {},
   "outputs": [
    {
     "name": "stdout",
     "output_type": "stream",
     "text": [
      "0     17 0 41 25 51 15 35 32 52 43\n",
      "1    22 44 38 25 37 24 34 27 23 16\n",
      "2        3 12 8 7 37 9 40 22 19 31\n",
      "3       42 12 6 0 34 35 27 19 47 3\n",
      "4     36 39 31 52 5 10 27 43 26 37\n",
      "5      38 50 31 49 15 11 30 6 2 29\n",
      "6     34 46 22 27 38 43 51 6 45 14\n",
      "7      23 49 33 9 4 22 45 15 32 24\n",
      "8        16 14 3 33 9 2 43 13 34 6\n",
      "9        46 20 8 3 23 34 7 43 6 52\n",
      "Name: init.hand1, dtype: object\n",
      "0     17 0 41 25 51 15 35 32 52 43\n",
      "1    22 44 38 25 37 24 34 27 23 16\n",
      "2        3 12 8 7 37 9 40 22 19 31\n",
      "3     52 23 52 21 41 13 49 9 16 39\n",
      "4     36 12 52 18 38 45 15 6 52 50\n",
      "5        13 12 6 20 48 1 9 40 45 7\n",
      "6     1 10 38 47 28 46 18 52 16 31\n",
      "7      46 51 34 22 7 41 9 29 36 45\n",
      "8      34 18 30 44 24 6 22 7 17 16\n",
      "9       51 38 6 48 20 35 14 3 32 4\n",
      "Name: init.hand1, dtype: object\n",
      "0     17 0 41 25 51 15 35 32 52 43\n",
      "1    22 44 38 25 37 24 34 27 23 16\n",
      "2      30 14 32 1 50 49 37 28 6 10\n",
      "3      43 7 5 30 32 21 22 24 40 19\n",
      "4       40 3 24 44 8 42 22 47 35 1\n",
      "5      50 46 48 21 8 28 32 41 7 52\n",
      "6      23 10 52 35 4 41 36 7 42 31\n",
      "7     29 18 45 51 9 37 43 40 21 26\n",
      "8      2 43 6 32 49 40 52 41 37 47\n",
      "9       41 27 17 39 3 9 13 4 50 25\n",
      "Name: init.hand1, dtype: object\n",
      "0     17 0 41 25 51 15 35 32 52 43\n",
      "1    22 44 38 25 37 24 34 27 23 16\n",
      "2     18 13 27 11 3 51 22 10 12 41\n",
      "3       42 12 6 0 34 35 27 19 47 3\n",
      "4     36 39 31 52 5 10 27 43 26 37\n",
      "5      23 10 52 35 4 41 36 7 42 31\n",
      "6    38 19 44 29 15 32 18 17 21 36\n",
      "7    28 10 37 39 16 52 43 50 51 49\n",
      "8    20 47 44 40 12 33 15 10 27 42\n",
      "9       29 52 0 47 8 51 15 19 12 9\n",
      "Name: init.hand1, dtype: object\n",
      "0     17 0 41 25 51 15 35 32 52 43\n",
      "1    22 44 38 25 37 24 34 27 23 16\n",
      "2     52 23 52 21 41 13 49 9 16 39\n",
      "3     36 12 52 18 38 45 15 6 52 50\n",
      "4        13 12 6 20 48 1 9 40 45 7\n",
      "5     1 10 38 47 28 46 18 52 16 31\n",
      "6      46 51 34 22 7 41 9 29 36 45\n",
      "7      34 18 30 44 24 6 22 7 17 16\n",
      "8       37 42 1 2 17 14 48 9 41 10\n",
      "9     5 38 51 21 37 16 33 41 30 10\n",
      "Name: init.hand1, dtype: object\n",
      "0     17 0 41 25 51 15 35 32 52 43\n",
      "1    22 44 38 25 37 24 34 27 23 16\n",
      "2     18 13 27 11 3 51 22 10 12 41\n",
      "3      15 7 29 18 26 43 41 49 10 5\n",
      "4      50 46 48 21 8 28 32 41 7 52\n",
      "5      23 10 52 35 4 41 36 7 42 31\n",
      "6      28 29 5 45 18 3 40 51 13 31\n",
      "7      22 38 39 37 8 44 17 15 23 9\n",
      "8        51 39 1 10 2 3 23 19 17 8\n",
      "9      14 23 20 32 38 25 2 5 21 39\n",
      "Name: init.hand1, dtype: object\n",
      "0     17 0 41 25 51 15 35 32 52 43\n",
      "1    22 44 38 25 37 24 34 27 23 16\n",
      "2       14 3 23 27 46 49 11 15 1 4\n",
      "3     31 19 25 41 18 3 24 35 23 14\n",
      "4     52 47 48 1 44 16 12 21 52 25\n",
      "5     36 39 31 52 5 10 27 43 26 37\n",
      "6      38 50 31 49 15 11 30 6 2 29\n",
      "7     34 46 22 27 38 43 51 6 45 14\n",
      "8     12 4 15 38 17 27 13 33 50 19\n",
      "9      28 29 5 45 18 3 40 51 13 31\n",
      "Name: init.hand1, dtype: object\n",
      "0     17 0 41 25 51 15 35 32 52 43\n",
      "1    22 44 38 25 37 24 34 27 23 16\n",
      "2       14 3 23 27 46 49 11 15 1 4\n",
      "3     31 19 25 41 18 3 24 35 23 14\n",
      "4     21 26 3 14 30 29 49 52 40 25\n",
      "5     8 35 23 12 11 21 14 27 16 40\n",
      "6      15 25 6 47 44 37 39 43 9 14\n",
      "7     2 40 36 47 20 25 37 22 49 38\n",
      "8    38 19 44 29 15 32 18 17 21 36\n",
      "9        46 20 8 3 23 34 7 43 6 52\n",
      "Name: init.hand1, dtype: object\n",
      "0      23 10 18 32 4 15 38 6 45 11\n",
      "1       52 26 32 7 28 14 3 2 25 43\n",
      "2     33 19 20 18 12 6 41 47 14 27\n",
      "3     52 25 43 5 41 22 42 30 15 47\n",
      "4    10 17 48 32 24 40 49 11 50 14\n",
      "5     35 47 40 19 37 14 4 33 22 48\n",
      "6        0 34 9 26 5 41 16 46 14 7\n",
      "7    26 47 36 33 23 37 49 32 31 42\n",
      "8       42 34 24 37 6 8 4 14 44 20\n",
      "9      13 23 1 26 40 44 35 14 2 16\n",
      "Name: init.hand1, dtype: object\n"
     ]
    }
   ],
   "source": [
    "for csv in csvfiles:\n",
    "    result = pd.read_csv(csv)\n",
    "    print(result['init.hand1'][:10])"
   ]
  }
 ],
 "metadata": {
  "kernelspec": {
   "display_name": "Python 3",
   "language": "python",
   "name": "python3"
  },
  "language_info": {
   "codemirror_mode": {
    "name": "ipython",
    "version": 3
   },
   "file_extension": ".py",
   "mimetype": "text/x-python",
   "name": "python",
   "nbconvert_exporter": "python",
   "pygments_lexer": "ipython3",
   "version": "3.13.3"
  }
 },
 "nbformat": 4,
 "nbformat_minor": 5
}
